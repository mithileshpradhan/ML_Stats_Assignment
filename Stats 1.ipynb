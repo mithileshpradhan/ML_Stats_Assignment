{
 "cells": [
  {
   "cell_type": "markdown",
   "metadata": {},
   "source": [
    "**Problem Statement 1:**    \n",
    "You survey households in your area to find the average rent they are paying. Find the\n",
    "standard deviation from the following data:     \n",
    "\n",
    "<b>$1550, $1700, $900, $850, $1000, $950.</b>"
   ]
  },
  {
   "cell_type": "code",
   "execution_count": 14,
   "metadata": {},
   "outputs": [
    {
     "name": "stdout",
     "output_type": "stream",
     "text": [
      "367.99003609699366\n"
     ]
    }
   ],
   "source": [
    "def calcStdDev(arr):\n",
    "    sum = 0.0\n",
    "    sum_dev = 0.0\n",
    "    std_dev = 0.0\n",
    "    N = len(arr)\n",
    "    for i in arr:\n",
    "        sum += i\n",
    "    \n",
    "    mean = sum/N\n",
    "    \n",
    "    for i in arr:\n",
    "        sum_dev += (abs(i-mean))**2\n",
    "        \n",
    "    std_dev = (sum_dev/(N-1))**0.5\n",
    "    \n",
    "    return std_dev\n",
    "\n",
    "print(calcStdDev([1550, 1700, 900,850, 1000,950]))\n",
    "        "
   ]
  },
  {
   "cell_type": "markdown",
   "metadata": {},
   "source": [
    "**Problem Statement 2:**    \n",
    "Find the variance for the following set of data representing trees in California (heights in\n",
    "feet):    \n",
    "\n",
    "<strong>3, 21, 98, 203, 17, 9</strong>"
   ]
  },
  {
   "cell_type": "code",
   "execution_count": 17,
   "metadata": {},
   "outputs": [
    {
     "name": "stdout",
     "output_type": "stream",
     "text": [
      "5183.25\n"
     ]
    }
   ],
   "source": [
    "def findVar(varArr):\n",
    "    s = sum(varArr)\n",
    "    N1 = len(varArr)\n",
    "    s_dev = 0.0\n",
    "    var = 0.0\n",
    "    mean1 = 0.0\n",
    "    \n",
    "    mean1 = s/N1\n",
    "    \n",
    "    for i in varArr:\n",
    "        s_dev += (abs(i-mean1))**2\n",
    "        \n",
    "    var = s_dev/(N1)\n",
    "    \n",
    "    return var\n",
    "\n",
    "print(findVar([3, 21, 98, 203, 17, 9]))\n"
   ]
  },
  {
   "cell_type": "markdown",
   "metadata": {},
   "source": [
    "**Problem Statement 3:**   \n",
    "\n",
    "In a class on 100 students, 80 students passed in all subjects, 10 failed in one subject, 7\n",
    "failed in two subjects and 3 failed in three subjects. Find the probability distribution of\n",
    "the variable for number of subjects a student from the given class has failed in."
   ]
  },
  {
   "cell_type": "markdown",
   "metadata": {},
   "source": [
    "**Solution:**\n",
    "\n",
    "For a random student,\n",
    "\n",
    "The probability of failing in 0 subjects, P(X=0) = 0.8\n",
    "\n",
    "The probability of failing in 1 subjects, P(X=1) = 0.1\n",
    "\n",
    "The probability of failing in 2 subjects, P(X=2) = 0.07\n",
    "\n",
    "The probability of failing in 3 subjects, P(X=3) = 0.03\n",
    "\n",
    "The probability distribution can be shown as:\n",
    "\n",
    " <table border=\"1\" cellspacing=\"0\">\n",
    "          <tbody>\n",
    "<tr>\n",
    "            <td>&nbsp;X</td>\n",
    "<td>&nbsp;0</td>\n",
    "<td class=\"\">&nbsp;1</td>\n",
    "            <td>&nbsp;2</td>\n",
    "            <td>&nbsp;3</td>\n",
    "          </tr>\n",
    "          <tr>\n",
    "            <td>&nbsp;P(X)</td>\n",
    "<td> 0.8</td>\n",
    "<td>&nbsp;0.1</td>\n",
    "            <td>&nbsp;0.07</td>\n",
    "            <td>&nbsp;0.03</td></tr></tbody></table>\n"
   ]
  },
  {
   "cell_type": "code",
   "execution_count": null,
   "metadata": {},
   "outputs": [],
   "source": []
  },
  {
   "cell_type": "code",
   "execution_count": null,
   "metadata": {},
   "outputs": [],
   "source": []
  },
  {
   "cell_type": "code",
   "execution_count": null,
   "metadata": {},
   "outputs": [],
   "source": []
  }
 ],
 "metadata": {
  "kernelspec": {
   "display_name": "py36",
   "language": "python",
   "name": "py36"
  },
  "language_info": {
   "codemirror_mode": {
    "name": "ipython",
    "version": 3
   },
   "file_extension": ".py",
   "mimetype": "text/x-python",
   "name": "python",
   "nbconvert_exporter": "python",
   "pygments_lexer": "ipython3",
   "version": "3.6.9"
  }
 },
 "nbformat": 4,
 "nbformat_minor": 2
}
